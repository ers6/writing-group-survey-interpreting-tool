{
  "nbformat": 4,
  "nbformat_minor": 0,
  "metadata": {
    "colab": {
      "provenance": [],
      "authorship_tag": "ABX9TyOD0w8FBuWicUA4JxD1zsDb",
      "include_colab_link": true
    },
    "kernelspec": {
      "name": "python3",
      "display_name": "Python 3"
    },
    "language_info": {
      "name": "python"
    }
  },
  "cells": [
    {
      "cell_type": "markdown",
      "metadata": {
        "id": "view-in-github",
        "colab_type": "text"
      },
      "source": [
        "<a href=\"https://colab.research.google.com/github/ers6/writing-group-survey-interpreting-tool/blob/main/Writing_Group_Survey_Interpretation_Tool.ipynb\" target=\"_parent\"><img src=\"https://colab.research.google.com/assets/colab-badge.svg\" alt=\"Open In Colab\"/></a>"
      ]
    },
    {
      "cell_type": "markdown",
      "source": [
        "# Writing Group Survey Interpretation Tool\n",
        "\n",
        "---\n",
        "This google colab notebook interprets results of the Writers Workshops' [Writing Group Survey](https://forms.gle/XuDknUBCjzhWChbX9) \n",
        "\n",
        "Prior to running this program: \n",
        "1. Download the survey results google sheet as a .csv file. This is a format that python can read more easily than a google sheet. \n",
        "2. Create a blank csv file on your computer. This program will automatically populate that file with the groups it creates, contact information for people in the group, and a template email to send each member.  \n",
        "\n",
        "To run this program, press your shift and return keys at the same time or press the play button on each cell. It is important to run the notebook in the order that it is written. You will know a cell has been run when a small green check mark appears on the left hand side of it\n",
        "\n",
        "After the program finishes running, access the blank csv file you created. Each row in the file corresponds to a writing group, their members, and an email to send to them. For people who could not be matched, the file contains rows of their names, contact information, and an email to send them as well. \n",
        "\n",
        "Before sending emails, be sure to review the safety concerns report which appears in the last cell of the program. "
      ],
      "metadata": {
        "id": "1KjmSaz19JN3"
      }
    },
    {
      "cell_type": "markdown",
      "source": [
        "## Importing Python Libraries "
      ],
      "metadata": {
        "id": "UMJwT_IM9Z1x"
      }
    },
    {
      "cell_type": "code",
      "execution_count": null,
      "metadata": {
        "id": "0u_rOnNW9EXj"
      },
      "outputs": [],
      "source": [
        "import pandas as pd\n",
        "import numpy as np\n",
        "import csv\n",
        "import random\n",
        "import re\n",
        "from google.colab import files\n",
        "import io"
      ]
    },
    {
      "cell_type": "markdown",
      "source": [
        "## Importing the survey results file and outfile\n",
        "1. Upload the csv file of the survey results you created to colab \n",
        "2. locate the file in the left hand tab by clicking on the file icon (hint-if you can't find it, it's probably in the content folder).\n",
        "3. Right click the file you uploaded. Select \"copy path\" \n",
        "4. when prompted to input the results file path, paste the file path from your clipboard. \n",
        "5. Upload the csv file where the results will be stored (outfile)\n",
        "6. locate the file in the left hand tab by clicking on the file icon. \n",
        "7. Right click the outfile you uploaded. Select \"copy path\"\n",
        "8. When prompted to input the out file path, paste the file path from your clipboard. "
      ],
      "metadata": {
        "id": "efjppj99PBig"
      }
    },
    {
      "cell_type": "code",
      "source": [
        "uploaded = files.upload()"
      ],
      "metadata": {
        "colab": {
          "base_uri": "https://localhost:8080/",
          "height": 94
        },
        "id": "HVSe8EZA-Mn4",
        "outputId": "1bb48f10-a925-41d7-cdc5-64e1812a6a29"
      },
      "execution_count": null,
      "outputs": [
        {
          "output_type": "display_data",
          "data": {
            "text/plain": [
              "<IPython.core.display.HTML object>"
            ],
            "text/html": [
              "\n",
              "     <input type=\"file\" id=\"files-3b85f43a-b1be-4793-bc47-ba2b448f1379\" name=\"files[]\" multiple disabled\n",
              "        style=\"border:none\" />\n",
              "     <output id=\"result-3b85f43a-b1be-4793-bc47-ba2b448f1379\">\n",
              "      Upload widget is only available when the cell has been executed in the\n",
              "      current browser session. Please rerun this cell to enable.\n",
              "      </output>\n",
              "      <script>// Copyright 2017 Google LLC\n",
              "//\n",
              "// Licensed under the Apache License, Version 2.0 (the \"License\");\n",
              "// you may not use this file except in compliance with the License.\n",
              "// You may obtain a copy of the License at\n",
              "//\n",
              "//      http://www.apache.org/licenses/LICENSE-2.0\n",
              "//\n",
              "// Unless required by applicable law or agreed to in writing, software\n",
              "// distributed under the License is distributed on an \"AS IS\" BASIS,\n",
              "// WITHOUT WARRANTIES OR CONDITIONS OF ANY KIND, either express or implied.\n",
              "// See the License for the specific language governing permissions and\n",
              "// limitations under the License.\n",
              "\n",
              "/**\n",
              " * @fileoverview Helpers for google.colab Python module.\n",
              " */\n",
              "(function(scope) {\n",
              "function span(text, styleAttributes = {}) {\n",
              "  const element = document.createElement('span');\n",
              "  element.textContent = text;\n",
              "  for (const key of Object.keys(styleAttributes)) {\n",
              "    element.style[key] = styleAttributes[key];\n",
              "  }\n",
              "  return element;\n",
              "}\n",
              "\n",
              "// Max number of bytes which will be uploaded at a time.\n",
              "const MAX_PAYLOAD_SIZE = 100 * 1024;\n",
              "\n",
              "function _uploadFiles(inputId, outputId) {\n",
              "  const steps = uploadFilesStep(inputId, outputId);\n",
              "  const outputElement = document.getElementById(outputId);\n",
              "  // Cache steps on the outputElement to make it available for the next call\n",
              "  // to uploadFilesContinue from Python.\n",
              "  outputElement.steps = steps;\n",
              "\n",
              "  return _uploadFilesContinue(outputId);\n",
              "}\n",
              "\n",
              "// This is roughly an async generator (not supported in the browser yet),\n",
              "// where there are multiple asynchronous steps and the Python side is going\n",
              "// to poll for completion of each step.\n",
              "// This uses a Promise to block the python side on completion of each step,\n",
              "// then passes the result of the previous step as the input to the next step.\n",
              "function _uploadFilesContinue(outputId) {\n",
              "  const outputElement = document.getElementById(outputId);\n",
              "  const steps = outputElement.steps;\n",
              "\n",
              "  const next = steps.next(outputElement.lastPromiseValue);\n",
              "  return Promise.resolve(next.value.promise).then((value) => {\n",
              "    // Cache the last promise value to make it available to the next\n",
              "    // step of the generator.\n",
              "    outputElement.lastPromiseValue = value;\n",
              "    return next.value.response;\n",
              "  });\n",
              "}\n",
              "\n",
              "/**\n",
              " * Generator function which is called between each async step of the upload\n",
              " * process.\n",
              " * @param {string} inputId Element ID of the input file picker element.\n",
              " * @param {string} outputId Element ID of the output display.\n",
              " * @return {!Iterable<!Object>} Iterable of next steps.\n",
              " */\n",
              "function* uploadFilesStep(inputId, outputId) {\n",
              "  const inputElement = document.getElementById(inputId);\n",
              "  inputElement.disabled = false;\n",
              "\n",
              "  const outputElement = document.getElementById(outputId);\n",
              "  outputElement.innerHTML = '';\n",
              "\n",
              "  const pickedPromise = new Promise((resolve) => {\n",
              "    inputElement.addEventListener('change', (e) => {\n",
              "      resolve(e.target.files);\n",
              "    });\n",
              "  });\n",
              "\n",
              "  const cancel = document.createElement('button');\n",
              "  inputElement.parentElement.appendChild(cancel);\n",
              "  cancel.textContent = 'Cancel upload';\n",
              "  const cancelPromise = new Promise((resolve) => {\n",
              "    cancel.onclick = () => {\n",
              "      resolve(null);\n",
              "    };\n",
              "  });\n",
              "\n",
              "  // Wait for the user to pick the files.\n",
              "  const files = yield {\n",
              "    promise: Promise.race([pickedPromise, cancelPromise]),\n",
              "    response: {\n",
              "      action: 'starting',\n",
              "    }\n",
              "  };\n",
              "\n",
              "  cancel.remove();\n",
              "\n",
              "  // Disable the input element since further picks are not allowed.\n",
              "  inputElement.disabled = true;\n",
              "\n",
              "  if (!files) {\n",
              "    return {\n",
              "      response: {\n",
              "        action: 'complete',\n",
              "      }\n",
              "    };\n",
              "  }\n",
              "\n",
              "  for (const file of files) {\n",
              "    const li = document.createElement('li');\n",
              "    li.append(span(file.name, {fontWeight: 'bold'}));\n",
              "    li.append(span(\n",
              "        `(${file.type || 'n/a'}) - ${file.size} bytes, ` +\n",
              "        `last modified: ${\n",
              "            file.lastModifiedDate ? file.lastModifiedDate.toLocaleDateString() :\n",
              "                                    'n/a'} - `));\n",
              "    const percent = span('0% done');\n",
              "    li.appendChild(percent);\n",
              "\n",
              "    outputElement.appendChild(li);\n",
              "\n",
              "    const fileDataPromise = new Promise((resolve) => {\n",
              "      const reader = new FileReader();\n",
              "      reader.onload = (e) => {\n",
              "        resolve(e.target.result);\n",
              "      };\n",
              "      reader.readAsArrayBuffer(file);\n",
              "    });\n",
              "    // Wait for the data to be ready.\n",
              "    let fileData = yield {\n",
              "      promise: fileDataPromise,\n",
              "      response: {\n",
              "        action: 'continue',\n",
              "      }\n",
              "    };\n",
              "\n",
              "    // Use a chunked sending to avoid message size limits. See b/62115660.\n",
              "    let position = 0;\n",
              "    do {\n",
              "      const length = Math.min(fileData.byteLength - position, MAX_PAYLOAD_SIZE);\n",
              "      const chunk = new Uint8Array(fileData, position, length);\n",
              "      position += length;\n",
              "\n",
              "      const base64 = btoa(String.fromCharCode.apply(null, chunk));\n",
              "      yield {\n",
              "        response: {\n",
              "          action: 'append',\n",
              "          file: file.name,\n",
              "          data: base64,\n",
              "        },\n",
              "      };\n",
              "\n",
              "      let percentDone = fileData.byteLength === 0 ?\n",
              "          100 :\n",
              "          Math.round((position / fileData.byteLength) * 100);\n",
              "      percent.textContent = `${percentDone}% done`;\n",
              "\n",
              "    } while (position < fileData.byteLength);\n",
              "  }\n",
              "\n",
              "  // All done.\n",
              "  yield {\n",
              "    response: {\n",
              "      action: 'complete',\n",
              "    }\n",
              "  };\n",
              "}\n",
              "\n",
              "scope.google = scope.google || {};\n",
              "scope.google.colab = scope.google.colab || {};\n",
              "scope.google.colab._files = {\n",
              "  _uploadFiles,\n",
              "  _uploadFilesContinue,\n",
              "};\n",
              "})(self);\n",
              "</script> "
            ]
          },
          "metadata": {}
        },
        {
          "output_type": "stream",
          "name": "stdout",
          "text": [
            "Saving Writing Support Survey - Pilot Program v2 (Responses) - Form Responses 1.csv to Writing Support Survey - Pilot Program v2 (Responses) - Form Responses 1.csv\n"
          ]
        }
      ]
    },
    {
      "cell_type": "code",
      "source": [
        "results_file_path = input('input the path to the results file: ')"
      ],
      "metadata": {
        "colab": {
          "base_uri": "https://localhost:8080/"
        },
        "id": "A78hl9wVPBR9",
        "outputId": "ec79effd-27d9-4cc9-cf96-fc686275b2c4"
      },
      "execution_count": null,
      "outputs": [
        {
          "name": "stdout",
          "output_type": "stream",
          "text": [
            "input the path to the results file: /content/Writing Support Survey - Pilot Program v2 (Responses) - Form Responses 1.csv\n"
          ]
        }
      ]
    },
    {
      "cell_type": "code",
      "source": [
        "outfile = files.upload()"
      ],
      "metadata": {
        "colab": {
          "base_uri": "https://localhost:8080/",
          "height": 74
        },
        "id": "vbG5Fg4kQcU0",
        "outputId": "6692a906-647d-4120-c132-34251fae5a90"
      },
      "execution_count": null,
      "outputs": [
        {
          "output_type": "display_data",
          "data": {
            "text/plain": [
              "<IPython.core.display.HTML object>"
            ],
            "text/html": [
              "\n",
              "     <input type=\"file\" id=\"files-f7604d83-fda4-4aab-9caa-ec4fd2567fbd\" name=\"files[]\" multiple disabled\n",
              "        style=\"border:none\" />\n",
              "     <output id=\"result-f7604d83-fda4-4aab-9caa-ec4fd2567fbd\">\n",
              "      Upload widget is only available when the cell has been executed in the\n",
              "      current browser session. Please rerun this cell to enable.\n",
              "      </output>\n",
              "      <script>// Copyright 2017 Google LLC\n",
              "//\n",
              "// Licensed under the Apache License, Version 2.0 (the \"License\");\n",
              "// you may not use this file except in compliance with the License.\n",
              "// You may obtain a copy of the License at\n",
              "//\n",
              "//      http://www.apache.org/licenses/LICENSE-2.0\n",
              "//\n",
              "// Unless required by applicable law or agreed to in writing, software\n",
              "// distributed under the License is distributed on an \"AS IS\" BASIS,\n",
              "// WITHOUT WARRANTIES OR CONDITIONS OF ANY KIND, either express or implied.\n",
              "// See the License for the specific language governing permissions and\n",
              "// limitations under the License.\n",
              "\n",
              "/**\n",
              " * @fileoverview Helpers for google.colab Python module.\n",
              " */\n",
              "(function(scope) {\n",
              "function span(text, styleAttributes = {}) {\n",
              "  const element = document.createElement('span');\n",
              "  element.textContent = text;\n",
              "  for (const key of Object.keys(styleAttributes)) {\n",
              "    element.style[key] = styleAttributes[key];\n",
              "  }\n",
              "  return element;\n",
              "}\n",
              "\n",
              "// Max number of bytes which will be uploaded at a time.\n",
              "const MAX_PAYLOAD_SIZE = 100 * 1024;\n",
              "\n",
              "function _uploadFiles(inputId, outputId) {\n",
              "  const steps = uploadFilesStep(inputId, outputId);\n",
              "  const outputElement = document.getElementById(outputId);\n",
              "  // Cache steps on the outputElement to make it available for the next call\n",
              "  // to uploadFilesContinue from Python.\n",
              "  outputElement.steps = steps;\n",
              "\n",
              "  return _uploadFilesContinue(outputId);\n",
              "}\n",
              "\n",
              "// This is roughly an async generator (not supported in the browser yet),\n",
              "// where there are multiple asynchronous steps and the Python side is going\n",
              "// to poll for completion of each step.\n",
              "// This uses a Promise to block the python side on completion of each step,\n",
              "// then passes the result of the previous step as the input to the next step.\n",
              "function _uploadFilesContinue(outputId) {\n",
              "  const outputElement = document.getElementById(outputId);\n",
              "  const steps = outputElement.steps;\n",
              "\n",
              "  const next = steps.next(outputElement.lastPromiseValue);\n",
              "  return Promise.resolve(next.value.promise).then((value) => {\n",
              "    // Cache the last promise value to make it available to the next\n",
              "    // step of the generator.\n",
              "    outputElement.lastPromiseValue = value;\n",
              "    return next.value.response;\n",
              "  });\n",
              "}\n",
              "\n",
              "/**\n",
              " * Generator function which is called between each async step of the upload\n",
              " * process.\n",
              " * @param {string} inputId Element ID of the input file picker element.\n",
              " * @param {string} outputId Element ID of the output display.\n",
              " * @return {!Iterable<!Object>} Iterable of next steps.\n",
              " */\n",
              "function* uploadFilesStep(inputId, outputId) {\n",
              "  const inputElement = document.getElementById(inputId);\n",
              "  inputElement.disabled = false;\n",
              "\n",
              "  const outputElement = document.getElementById(outputId);\n",
              "  outputElement.innerHTML = '';\n",
              "\n",
              "  const pickedPromise = new Promise((resolve) => {\n",
              "    inputElement.addEventListener('change', (e) => {\n",
              "      resolve(e.target.files);\n",
              "    });\n",
              "  });\n",
              "\n",
              "  const cancel = document.createElement('button');\n",
              "  inputElement.parentElement.appendChild(cancel);\n",
              "  cancel.textContent = 'Cancel upload';\n",
              "  const cancelPromise = new Promise((resolve) => {\n",
              "    cancel.onclick = () => {\n",
              "      resolve(null);\n",
              "    };\n",
              "  });\n",
              "\n",
              "  // Wait for the user to pick the files.\n",
              "  const files = yield {\n",
              "    promise: Promise.race([pickedPromise, cancelPromise]),\n",
              "    response: {\n",
              "      action: 'starting',\n",
              "    }\n",
              "  };\n",
              "\n",
              "  cancel.remove();\n",
              "\n",
              "  // Disable the input element since further picks are not allowed.\n",
              "  inputElement.disabled = true;\n",
              "\n",
              "  if (!files) {\n",
              "    return {\n",
              "      response: {\n",
              "        action: 'complete',\n",
              "      }\n",
              "    };\n",
              "  }\n",
              "\n",
              "  for (const file of files) {\n",
              "    const li = document.createElement('li');\n",
              "    li.append(span(file.name, {fontWeight: 'bold'}));\n",
              "    li.append(span(\n",
              "        `(${file.type || 'n/a'}) - ${file.size} bytes, ` +\n",
              "        `last modified: ${\n",
              "            file.lastModifiedDate ? file.lastModifiedDate.toLocaleDateString() :\n",
              "                                    'n/a'} - `));\n",
              "    const percent = span('0% done');\n",
              "    li.appendChild(percent);\n",
              "\n",
              "    outputElement.appendChild(li);\n",
              "\n",
              "    const fileDataPromise = new Promise((resolve) => {\n",
              "      const reader = new FileReader();\n",
              "      reader.onload = (e) => {\n",
              "        resolve(e.target.result);\n",
              "      };\n",
              "      reader.readAsArrayBuffer(file);\n",
              "    });\n",
              "    // Wait for the data to be ready.\n",
              "    let fileData = yield {\n",
              "      promise: fileDataPromise,\n",
              "      response: {\n",
              "        action: 'continue',\n",
              "      }\n",
              "    };\n",
              "\n",
              "    // Use a chunked sending to avoid message size limits. See b/62115660.\n",
              "    let position = 0;\n",
              "    do {\n",
              "      const length = Math.min(fileData.byteLength - position, MAX_PAYLOAD_SIZE);\n",
              "      const chunk = new Uint8Array(fileData, position, length);\n",
              "      position += length;\n",
              "\n",
              "      const base64 = btoa(String.fromCharCode.apply(null, chunk));\n",
              "      yield {\n",
              "        response: {\n",
              "          action: 'append',\n",
              "          file: file.name,\n",
              "          data: base64,\n",
              "        },\n",
              "      };\n",
              "\n",
              "      let percentDone = fileData.byteLength === 0 ?\n",
              "          100 :\n",
              "          Math.round((position / fileData.byteLength) * 100);\n",
              "      percent.textContent = `${percentDone}% done`;\n",
              "\n",
              "    } while (position < fileData.byteLength);\n",
              "  }\n",
              "\n",
              "  // All done.\n",
              "  yield {\n",
              "    response: {\n",
              "      action: 'complete',\n",
              "    }\n",
              "  };\n",
              "}\n",
              "\n",
              "scope.google = scope.google || {};\n",
              "scope.google.colab = scope.google.colab || {};\n",
              "scope.google.colab._files = {\n",
              "  _uploadFiles,\n",
              "  _uploadFilesContinue,\n",
              "};\n",
              "})(self);\n",
              "</script> "
            ]
          },
          "metadata": {}
        },
        {
          "output_type": "stream",
          "name": "stdout",
          "text": [
            "Saving emails-to-send.csv to emails-to-send.csv\n"
          ]
        }
      ]
    },
    {
      "cell_type": "code",
      "source": [
        "out_file_path = input('input the path to the out file: ')"
      ],
      "metadata": {
        "colab": {
          "base_uri": "https://localhost:8080/"
        },
        "id": "qy-r3LYTQnZB",
        "outputId": "c29b0d45-ce5b-4d0f-c514-84839c02a4c0"
      },
      "execution_count": null,
      "outputs": [
        {
          "name": "stdout",
          "output_type": "stream",
          "text": [
            "input the path to the out file: /content/emails-to-send.csv\n"
          ]
        }
      ]
    },
    {
      "cell_type": "code",
      "source": [],
      "metadata": {
        "id": "S74ro1Y4QuvZ"
      },
      "execution_count": null,
      "outputs": []
    },
    {
      "cell_type": "markdown",
      "source": [
        "## Setting up some functions we will use to analyze the results \n",
        "This code shouldn't do anything when it is run but it is important to run all these cells before proceeding to the next section"
      ],
      "metadata": {
        "id": "xrfqhL919w-Y"
      }
    },
    {
      "cell_type": "code",
      "source": [
        "def csv_to_dict(csv_file_name):\n",
        "    results = []\n",
        "    with open(csv_file_name, 'r', newline='', encoding='utf-8') as infile:\n",
        "        csvin = csv.reader(infile)\n",
        "        headers = next(csvin)\n",
        "        # Make headers str.lower\n",
        "        headers = [header.strip().lower() for header in headers]\n",
        "        # Save dictionary of header:value for each row of data\n",
        "        for row in csvin:\n",
        "            n = 0\n",
        "            your_dict = {}\n",
        "            for column in row:\n",
        "                your_dict[headers[n]] = column\n",
        "                n += 1\n",
        "            results.append(your_dict)\n",
        "    return results\n",
        "\n",
        "def makes_results_csv(results, outfile_name):\n",
        "    headers = results[0].keys()\n",
        "    rows = results\n",
        "    print(rows)\n",
        "    with open(outfile_name, 'w', encoding='UTF-8', newline='') as outfile:\n",
        "        writer = csv.DictWriter(outfile, fieldnames=headers)\n",
        "        writer.writeheader()\n",
        "        for row in rows:\n",
        "            try:\n",
        "                writer.writerow(row)\n",
        "            except AttributeError:\n",
        "                pass"
      ],
      "metadata": {
        "id": "K9qVK6GM9eia"
      },
      "execution_count": null,
      "outputs": []
    },
    {
      "cell_type": "code",
      "source": [
        "# note that this function assumes that the survey questions will be phrased exactly as they are in the response dictionary keys\n",
        "# if you change the survey questions and schema without altering this function, the program will crash. \n",
        "\n",
        "def crosswalks_results(response):\n",
        "    a_response = {'synchronous': False,\n",
        " 'modality': 'online', \n",
        " 'sesh_length': 0, \n",
        " 'sesh_per_week': 0,\n",
        "  'illinois_email' : '', \n",
        "  'discord_handle': '', \n",
        "  'safety_concern': ''\n",
        "}\n",
        "    if response['would you like to work synchronously (meeting with other writers at the same time) or asynchronously (communicating progress via discord)?'] == 'synchronously':\n",
        "        a_response['synchronous'] = True\n",
        "    if response['would you like to meet in person or online?'] == 'in person':\n",
        "        a_response['modality'] = 'in_person'\n",
        "    if response['how long would you like sessions to last (ideally)?'] == '':\n",
        "        a_response['sesh_length'] = np.nan\n",
        "    else:\n",
        "        try:\n",
        "            a_response['sesh_length'] = int(response['how long would you like sessions to last (ideally)?'].split()[0])\n",
        "        except AttributeError: \n",
        "            a_response['sesh_length'] = 1.5\n",
        "        except ValueError: \n",
        "            a_response['sesh_length'] = 1.5\n",
        "    if response['how many times a week would you like to meet?'] == '':\n",
        "        a_response['sesh_per_week'] = np.nan\n",
        "    else:\n",
        "        a_response['sesh_per_week'] = response['how many times a week would you like to meet?']\n",
        "    a_response['illinois_email'] = response['please provide your university of illinois email address. we will use this to ensure you are affiliated with the university.']\n",
        "    a_response['discord_handle'] = response[\"please provide your discord handle. we will use this to put group members in contact  with each other. if you don't have a discord account follow this guide to create one (it's completely free!): \\nhttps://support.discord.com/hc/en-us/articles/360033931551-getting-started\"]\n",
        "    a_response['safety_concern'] = response[\"your safety is important. is there anyone with whom you would feel unsafe being in a group with? this information will be kept confidential. please only provide their name; no need to disclose the reason you'd feel unsafe.\"]\n",
        "    return a_response\n",
        "        \n",
        "    "
      ],
      "metadata": {
        "id": "VnW_lGll9wmy"
      },
      "execution_count": null,
      "outputs": []
    },
    {
      "cell_type": "code",
      "source": [
        "def safety_concerns_report(responses): \n",
        "    concerns = []\n",
        "    for this_response in responses: \n",
        "        if str(this_response['safety_concern']).lower() == 'no':\n",
        "            pass\n",
        "        elif str(this_response['safety_concern']).lower() == 'n/a':\n",
        "            pass\n",
        "        elif this_response['safety_concern'] != '':\n",
        "            concerns.append(this_response)\n",
        "        else: pass \n",
        "    if len(concerns) > 0:\n",
        "        print('Review these safety concerns:')\n",
        "        for concern in concerns: \n",
        "            print(concern['illinois_email'] + ':')\n",
        "            print(concern['safety_concern'])\n",
        "            print(' ')"
      ],
      "metadata": {
        "id": "w7Exow8Y9ZTE"
      },
      "execution_count": null,
      "outputs": []
    },
    {
      "cell_type": "markdown",
      "source": [
        "## Reading in the survey results\n",
        "These cells read in the survey results from the file and format them prior to analysis"
      ],
      "metadata": {
        "id": "KVEGYoa--mn4"
      }
    },
    {
      "cell_type": "code",
      "source": [
        "raw_results = csv_to_dict(results_file_path)"
      ],
      "metadata": {
        "id": "z5OlwZPo7F5a"
      },
      "execution_count": null,
      "outputs": []
    },
    {
      "cell_type": "code",
      "source": [
        "\n",
        "results = []\n",
        "\n",
        "for response in raw_results: \n",
        "  results.append(crosswalks_results(response))"
      ],
      "metadata": {
        "id": "RDBpkcQe_PIR",
        "outputId": "3f9b9dcc-1358-47d1-8699-f4a300153694",
        "colab": {
          "base_uri": "https://localhost:8080/"
        }
      },
      "execution_count": null,
      "outputs": [
        {
          "output_type": "stream",
          "name": "stdout",
          "text": [
            "{'timestamp': '4/21/2023 15:41:32', 'would you like to work synchronously (meeting with other writers at the same time) or asynchronously (communicating progress via discord)?': 'synchronously', 'would you like to meet in person or online?': 'online', 'how long would you like sessions to last (ideally)?': '1 hour', 'how many times a week would you like to meet?': '3', 'please provide your university of illinois email address. we will use this to ensure you are affiliated with the university.': 'morris25@illinois.edu', \"please provide your discord handle. we will use this to put group members in contact  with each other. if you don't have a discord account follow this guide to create one (it's completely free!): \\nhttps://support.discord.com/hc/en-us/articles/360033931551-getting-started\": 'himalutenthusiast (j/k)', \"your safety is important. is there anyone with whom you would feel unsafe being in a group with? this information will be kept confidential. please only provide their name; no need to disclose the reason you'd feel unsafe.\": 'Ludwig von Beethoven'}\n",
            "{'timestamp': '4/21/2023 15:42:10', 'would you like to work synchronously (meeting with other writers at the same time) or asynchronously (communicating progress via discord)?': 'asynchronously', 'would you like to meet in person or online?': '', 'how long would you like sessions to last (ideally)?': '', 'how many times a week would you like to meet?': '', 'please provide your university of illinois email address. we will use this to ensure you are affiliated with the university.': 'morris25@illinois.edu', \"please provide your discord handle. we will use this to put group members in contact  with each other. if you don't have a discord account follow this guide to create one (it's completely free!): \\nhttps://support.discord.com/hc/en-us/articles/360033931551-getting-started\": 'Hiladelphia.com', \"your safety is important. is there anyone with whom you would feel unsafe being in a group with? this information will be kept confidential. please only provide their name; no need to disclose the reason you'd feel unsafe.\": 'Adolf Hitler'}\n",
            "{'timestamp': '4/21/2023 15:42:26', 'would you like to work synchronously (meeting with other writers at the same time) or asynchronously (communicating progress via discord)?': 'synchronously', 'would you like to meet in person or online?': 'in person', 'how long would you like sessions to last (ideally)?': '3 hours', 'how many times a week would you like to meet?': '2', 'please provide your university of illinois email address. we will use this to ensure you are affiliated with the university.': 'blafond2@illinois.edu', \"please provide your discord handle. we will use this to put group members in contact  with each other. if you don't have a discord account follow this guide to create one (it's completely free!): \\nhttps://support.discord.com/hc/en-us/articles/360033931551-getting-started\": 'BriL#3034', \"your safety is important. is there anyone with whom you would feel unsafe being in a group with? this information will be kept confidential. please only provide their name; no need to disclose the reason you'd feel unsafe.\": 'NA'}\n",
            "{'timestamp': '4/21/2023 15:43:18', 'would you like to work synchronously (meeting with other writers at the same time) or asynchronously (communicating progress via discord)?': 'synchronously', 'would you like to meet in person or online?': 'online', 'how long would you like sessions to last (ideally)?': 'more than 4 hours', 'how many times a week would you like to meet?': '3', 'please provide your university of illinois email address. we will use this to ensure you are affiliated with the university.': 'morris25@illinois.edu', \"please provide your discord handle. we will use this to put group members in contact  with each other. if you don't have a discord account follow this guide to create one (it's completely free!): \\nhttps://support.discord.com/hc/en-us/articles/360033931551-getting-started\": 'cantstopwontstoplolololol', \"your safety is important. is there anyone with whom you would feel unsafe being in a group with? this information will be kept confidential. please only provide their name; no need to disclose the reason you'd feel unsafe.\": 'Donald Trump'}\n",
            "{'timestamp': '4/21/2023 15:58:12', 'would you like to work synchronously (meeting with other writers at the same time) or asynchronously (communicating progress via discord)?': 'synchronously', 'would you like to meet in person or online?': 'online', 'how long would you like sessions to last (ideally)?': '3 hours', 'how many times a week would you like to meet?': '1', 'please provide your university of illinois email address. we will use this to ensure you are affiliated with the university.': 'sarahu2@illinois.edu', \"please provide your discord handle. we will use this to put group members in contact  with each other. if you don't have a discord account follow this guide to create one (it's completely free!): \\nhttps://support.discord.com/hc/en-us/articles/360033931551-getting-started\": 'kodgnisao;hfgiso', \"your safety is important. is there anyone with whom you would feel unsafe being in a group with? this information will be kept confidential. please only provide their name; no need to disclose the reason you'd feel unsafe.\": 'NA'}\n",
            "{'timestamp': '4/21/2023 15:59:54', 'would you like to work synchronously (meeting with other writers at the same time) or asynchronously (communicating progress via discord)?': 'asynchronously', 'would you like to meet in person or online?': '', 'how long would you like sessions to last (ideally)?': '', 'how many times a week would you like to meet?': '', 'please provide your university of illinois email address. we will use this to ensure you are affiliated with the university.': 'yournamehere@illinois.edu', \"please provide your discord handle. we will use this to put group members in contact  with each other. if you don't have a discord account follow this guide to create one (it's completely free!): \\nhttps://support.discord.com/hc/en-us/articles/360033931551-getting-started\": \"asdgajsid'jnfgisod'hagji\", \"your safety is important. is there anyone with whom you would feel unsafe being in a group with? this information will be kept confidential. please only provide their name; no need to disclose the reason you'd feel unsafe.\": 'NA'}\n",
            "{'timestamp': '4/21/2023 16:06:37', 'would you like to work synchronously (meeting with other writers at the same time) or asynchronously (communicating progress via discord)?': 'synchronously', 'would you like to meet in person or online?': 'in person', 'how long would you like sessions to last (ideally)?': '1 hour', 'how many times a week would you like to meet?': '1', 'please provide your university of illinois email address. we will use this to ensure you are affiliated with the university.': 'ag58@illinois.edu', \"please provide your discord handle. we will use this to put group members in contact  with each other. if you don't have a discord account follow this guide to create one (it's completely free!): \\nhttps://support.discord.com/hc/en-us/articles/360033931551-getting-started\": 'N/A', \"your safety is important. is there anyone with whom you would feel unsafe being in a group with? this information will be kept confidential. please only provide their name; no need to disclose the reason you'd feel unsafe.\": 'N/A'}\n",
            "{'timestamp': '4/21/2023 16:06:54', 'would you like to work synchronously (meeting with other writers at the same time) or asynchronously (communicating progress via discord)?': 'synchronously', 'would you like to meet in person or online?': 'in person', 'how long would you like sessions to last (ideally)?': '1 hour', 'how many times a week would you like to meet?': '2', 'please provide your university of illinois email address. we will use this to ensure you are affiliated with the university.': 'zef2@illinois.edu', \"please provide your discord handle. we will use this to put group members in contact  with each other. if you don't have a discord account follow this guide to create one (it's completely free!): \\nhttps://support.discord.com/hc/en-us/articles/360033931551-getting-started\": 'N/a', \"your safety is important. is there anyone with whom you would feel unsafe being in a group with? this information will be kept confidential. please only provide their name; no need to disclose the reason you'd feel unsafe.\": 'N/a'}\n",
            "{'timestamp': '4/21/2023 16:08:27', 'would you like to work synchronously (meeting with other writers at the same time) or asynchronously (communicating progress via discord)?': 'synchronously', 'would you like to meet in person or online?': 'in person', 'how long would you like sessions to last (ideally)?': '2 hours', 'how many times a week would you like to meet?': '2', 'please provide your university of illinois email address. we will use this to ensure you are affiliated with the university.': 'Test Submission', \"please provide your discord handle. we will use this to put group members in contact  with each other. if you don't have a discord account follow this guide to create one (it's completely free!): \\nhttps://support.discord.com/hc/en-us/articles/360033931551-getting-started\": 'Test Submission', \"your safety is important. is there anyone with whom you would feel unsafe being in a group with? this information will be kept confidential. please only provide their name; no need to disclose the reason you'd feel unsafe.\": 'No'}\n",
            "{'timestamp': '4/21/2023 16:14:20', 'would you like to work synchronously (meeting with other writers at the same time) or asynchronously (communicating progress via discord)?': 'asynchronously', 'would you like to meet in person or online?': '', 'how long would you like sessions to last (ideally)?': '', 'how many times a week would you like to meet?': '', 'please provide your university of illinois email address. we will use this to ensure you are affiliated with the university.': 'dae2@illinois.edu', \"please provide your discord handle. we will use this to put group members in contact  with each other. if you don't have a discord account follow this guide to create one (it's completely free!): \\nhttps://support.discord.com/hc/en-us/articles/360033931551-getting-started\": 'None', \"your safety is important. is there anyone with whom you would feel unsafe being in a group with? this information will be kept confidential. please only provide their name; no need to disclose the reason you'd feel unsafe.\": ''}\n",
            "{'timestamp': '4/22/2023 8:59:48', 'would you like to work synchronously (meeting with other writers at the same time) or asynchronously (communicating progress via discord)?': 'synchronously', 'would you like to meet in person or online?': 'online', 'how long would you like sessions to last (ideally)?': '2 hours', 'how many times a week would you like to meet?': '2', 'please provide your university of illinois email address. we will use this to ensure you are affiliated with the university.': 'aas6@illinois.edu', \"please provide your discord handle. we will use this to put group members in contact  with each other. if you don't have a discord account follow this guide to create one (it's completely free!): \\nhttps://support.discord.com/hc/en-us/articles/360033931551-getting-started\": 'Allison#8709', \"your safety is important. is there anyone with whom you would feel unsafe being in a group with? this information will be kept confidential. please only provide their name; no need to disclose the reason you'd feel unsafe.\": 'No'}\n"
          ]
        }
      ]
    },
    {
      "cell_type": "code",
      "source": [
        "d = list(results[0].keys())\n",
        "df = pd.DataFrame(columns = list(results[0].keys()))\n",
        "df = df.append(results, ignore_index= True)\n",
        "\n",
        "df"
      ],
      "metadata": {
        "id": "8sKI3ZJx_QXW",
        "colab": {
          "base_uri": "https://localhost:8080/",
          "height": 450
        },
        "outputId": "f83397b1-efd0-42e7-97b2-706f999940b9"
      },
      "execution_count": null,
      "outputs": [
        {
          "output_type": "stream",
          "name": "stderr",
          "text": [
            "<ipython-input-49-aadbf7c014dd>:3: FutureWarning: The frame.append method is deprecated and will be removed from pandas in a future version. Use pandas.concat instead.\n",
            "  df = df.append(results, ignore_index= True)\n"
          ]
        },
        {
          "output_type": "execute_result",
          "data": {
            "text/plain": [
              "   synchronous   modality  sesh_length sesh_per_week  \\\n",
              "0         True     online          1.0             3   \n",
              "1        False     online          NaN           NaN   \n",
              "2         True  in_person          3.0             2   \n",
              "3         True     online          1.5             3   \n",
              "4         True     online          3.0             1   \n",
              "5        False     online          NaN           NaN   \n",
              "6         True  in_person          1.0             1   \n",
              "7         True  in_person          1.0             2   \n",
              "8         True  in_person          2.0             2   \n",
              "9        False     online          NaN           NaN   \n",
              "10        True     online          2.0             2   \n",
              "\n",
              "               illinois_email             discord_handle        safety_concern  \n",
              "0       morris25@illinois.edu    himalutenthusiast (j/k)  Ludwig von Beethoven  \n",
              "1       morris25@illinois.edu            Hiladelphia.com          Adolf Hitler  \n",
              "2       blafond2@illinois.edu                  BriL#3034                    NA  \n",
              "3       morris25@illinois.edu  cantstopwontstoplolololol          Donald Trump  \n",
              "4        sarahu2@illinois.edu           kodgnisao;hfgiso                    NA  \n",
              "5   yournamehere@illinois.edu   asdgajsid'jnfgisod'hagji                    NA  \n",
              "6           ag58@illinois.edu                        N/A                   N/A  \n",
              "7           zef2@illinois.edu                        N/a                   N/a  \n",
              "8             Test Submission            Test Submission                    No  \n",
              "9           dae2@illinois.edu                       None                        \n",
              "10          aas6@illinois.edu               Allison#8709                    No  "
            ],
            "text/html": [
              "\n",
              "  <div id=\"df-84a0af50-8a5b-497b-86ed-b04b88840636\">\n",
              "    <div class=\"colab-df-container\">\n",
              "      <div>\n",
              "<style scoped>\n",
              "    .dataframe tbody tr th:only-of-type {\n",
              "        vertical-align: middle;\n",
              "    }\n",
              "\n",
              "    .dataframe tbody tr th {\n",
              "        vertical-align: top;\n",
              "    }\n",
              "\n",
              "    .dataframe thead th {\n",
              "        text-align: right;\n",
              "    }\n",
              "</style>\n",
              "<table border=\"1\" class=\"dataframe\">\n",
              "  <thead>\n",
              "    <tr style=\"text-align: right;\">\n",
              "      <th></th>\n",
              "      <th>synchronous</th>\n",
              "      <th>modality</th>\n",
              "      <th>sesh_length</th>\n",
              "      <th>sesh_per_week</th>\n",
              "      <th>illinois_email</th>\n",
              "      <th>discord_handle</th>\n",
              "      <th>safety_concern</th>\n",
              "    </tr>\n",
              "  </thead>\n",
              "  <tbody>\n",
              "    <tr>\n",
              "      <th>0</th>\n",
              "      <td>True</td>\n",
              "      <td>online</td>\n",
              "      <td>1.0</td>\n",
              "      <td>3</td>\n",
              "      <td>morris25@illinois.edu</td>\n",
              "      <td>himalutenthusiast (j/k)</td>\n",
              "      <td>Ludwig von Beethoven</td>\n",
              "    </tr>\n",
              "    <tr>\n",
              "      <th>1</th>\n",
              "      <td>False</td>\n",
              "      <td>online</td>\n",
              "      <td>NaN</td>\n",
              "      <td>NaN</td>\n",
              "      <td>morris25@illinois.edu</td>\n",
              "      <td>Hiladelphia.com</td>\n",
              "      <td>Adolf Hitler</td>\n",
              "    </tr>\n",
              "    <tr>\n",
              "      <th>2</th>\n",
              "      <td>True</td>\n",
              "      <td>in_person</td>\n",
              "      <td>3.0</td>\n",
              "      <td>2</td>\n",
              "      <td>blafond2@illinois.edu</td>\n",
              "      <td>BriL#3034</td>\n",
              "      <td>NA</td>\n",
              "    </tr>\n",
              "    <tr>\n",
              "      <th>3</th>\n",
              "      <td>True</td>\n",
              "      <td>online</td>\n",
              "      <td>1.5</td>\n",
              "      <td>3</td>\n",
              "      <td>morris25@illinois.edu</td>\n",
              "      <td>cantstopwontstoplolololol</td>\n",
              "      <td>Donald Trump</td>\n",
              "    </tr>\n",
              "    <tr>\n",
              "      <th>4</th>\n",
              "      <td>True</td>\n",
              "      <td>online</td>\n",
              "      <td>3.0</td>\n",
              "      <td>1</td>\n",
              "      <td>sarahu2@illinois.edu</td>\n",
              "      <td>kodgnisao;hfgiso</td>\n",
              "      <td>NA</td>\n",
              "    </tr>\n",
              "    <tr>\n",
              "      <th>5</th>\n",
              "      <td>False</td>\n",
              "      <td>online</td>\n",
              "      <td>NaN</td>\n",
              "      <td>NaN</td>\n",
              "      <td>yournamehere@illinois.edu</td>\n",
              "      <td>asdgajsid'jnfgisod'hagji</td>\n",
              "      <td>NA</td>\n",
              "    </tr>\n",
              "    <tr>\n",
              "      <th>6</th>\n",
              "      <td>True</td>\n",
              "      <td>in_person</td>\n",
              "      <td>1.0</td>\n",
              "      <td>1</td>\n",
              "      <td>ag58@illinois.edu</td>\n",
              "      <td>N/A</td>\n",
              "      <td>N/A</td>\n",
              "    </tr>\n",
              "    <tr>\n",
              "      <th>7</th>\n",
              "      <td>True</td>\n",
              "      <td>in_person</td>\n",
              "      <td>1.0</td>\n",
              "      <td>2</td>\n",
              "      <td>zef2@illinois.edu</td>\n",
              "      <td>N/a</td>\n",
              "      <td>N/a</td>\n",
              "    </tr>\n",
              "    <tr>\n",
              "      <th>8</th>\n",
              "      <td>True</td>\n",
              "      <td>in_person</td>\n",
              "      <td>2.0</td>\n",
              "      <td>2</td>\n",
              "      <td>Test Submission</td>\n",
              "      <td>Test Submission</td>\n",
              "      <td>No</td>\n",
              "    </tr>\n",
              "    <tr>\n",
              "      <th>9</th>\n",
              "      <td>False</td>\n",
              "      <td>online</td>\n",
              "      <td>NaN</td>\n",
              "      <td>NaN</td>\n",
              "      <td>dae2@illinois.edu</td>\n",
              "      <td>None</td>\n",
              "      <td></td>\n",
              "    </tr>\n",
              "    <tr>\n",
              "      <th>10</th>\n",
              "      <td>True</td>\n",
              "      <td>online</td>\n",
              "      <td>2.0</td>\n",
              "      <td>2</td>\n",
              "      <td>aas6@illinois.edu</td>\n",
              "      <td>Allison#8709</td>\n",
              "      <td>No</td>\n",
              "    </tr>\n",
              "  </tbody>\n",
              "</table>\n",
              "</div>\n",
              "      <button class=\"colab-df-convert\" onclick=\"convertToInteractive('df-84a0af50-8a5b-497b-86ed-b04b88840636')\"\n",
              "              title=\"Convert this dataframe to an interactive table.\"\n",
              "              style=\"display:none;\">\n",
              "        \n",
              "  <svg xmlns=\"http://www.w3.org/2000/svg\" height=\"24px\"viewBox=\"0 0 24 24\"\n",
              "       width=\"24px\">\n",
              "    <path d=\"M0 0h24v24H0V0z\" fill=\"none\"/>\n",
              "    <path d=\"M18.56 5.44l.94 2.06.94-2.06 2.06-.94-2.06-.94-.94-2.06-.94 2.06-2.06.94zm-11 1L8.5 8.5l.94-2.06 2.06-.94-2.06-.94L8.5 2.5l-.94 2.06-2.06.94zm10 10l.94 2.06.94-2.06 2.06-.94-2.06-.94-.94-2.06-.94 2.06-2.06.94z\"/><path d=\"M17.41 7.96l-1.37-1.37c-.4-.4-.92-.59-1.43-.59-.52 0-1.04.2-1.43.59L10.3 9.45l-7.72 7.72c-.78.78-.78 2.05 0 2.83L4 21.41c.39.39.9.59 1.41.59.51 0 1.02-.2 1.41-.59l7.78-7.78 2.81-2.81c.8-.78.8-2.07 0-2.86zM5.41 20L4 18.59l7.72-7.72 1.47 1.35L5.41 20z\"/>\n",
              "  </svg>\n",
              "      </button>\n",
              "      \n",
              "  <style>\n",
              "    .colab-df-container {\n",
              "      display:flex;\n",
              "      flex-wrap:wrap;\n",
              "      gap: 12px;\n",
              "    }\n",
              "\n",
              "    .colab-df-convert {\n",
              "      background-color: #E8F0FE;\n",
              "      border: none;\n",
              "      border-radius: 50%;\n",
              "      cursor: pointer;\n",
              "      display: none;\n",
              "      fill: #1967D2;\n",
              "      height: 32px;\n",
              "      padding: 0 0 0 0;\n",
              "      width: 32px;\n",
              "    }\n",
              "\n",
              "    .colab-df-convert:hover {\n",
              "      background-color: #E2EBFA;\n",
              "      box-shadow: 0px 1px 2px rgba(60, 64, 67, 0.3), 0px 1px 3px 1px rgba(60, 64, 67, 0.15);\n",
              "      fill: #174EA6;\n",
              "    }\n",
              "\n",
              "    [theme=dark] .colab-df-convert {\n",
              "      background-color: #3B4455;\n",
              "      fill: #D2E3FC;\n",
              "    }\n",
              "\n",
              "    [theme=dark] .colab-df-convert:hover {\n",
              "      background-color: #434B5C;\n",
              "      box-shadow: 0px 1px 3px 1px rgba(0, 0, 0, 0.15);\n",
              "      filter: drop-shadow(0px 1px 2px rgba(0, 0, 0, 0.3));\n",
              "      fill: #FFFFFF;\n",
              "    }\n",
              "  </style>\n",
              "\n",
              "      <script>\n",
              "        const buttonEl =\n",
              "          document.querySelector('#df-84a0af50-8a5b-497b-86ed-b04b88840636 button.colab-df-convert');\n",
              "        buttonEl.style.display =\n",
              "          google.colab.kernel.accessAllowed ? 'block' : 'none';\n",
              "\n",
              "        async function convertToInteractive(key) {\n",
              "          const element = document.querySelector('#df-84a0af50-8a5b-497b-86ed-b04b88840636');\n",
              "          const dataTable =\n",
              "            await google.colab.kernel.invokeFunction('convertToInteractive',\n",
              "                                                     [key], {});\n",
              "          if (!dataTable) return;\n",
              "\n",
              "          const docLinkHtml = 'Like what you see? Visit the ' +\n",
              "            '<a target=\"_blank\" href=https://colab.research.google.com/notebooks/data_table.ipynb>data table notebook</a>'\n",
              "            + ' to learn more about interactive tables.';\n",
              "          element.innerHTML = '';\n",
              "          dataTable['output_type'] = 'display_data';\n",
              "          await google.colab.output.renderOutput(dataTable, element);\n",
              "          const docLink = document.createElement('div');\n",
              "          docLink.innerHTML = docLinkHtml;\n",
              "          element.appendChild(docLink);\n",
              "        }\n",
              "      </script>\n",
              "    </div>\n",
              "  </div>\n",
              "  "
            ]
          },
          "metadata": {},
          "execution_count": 49
        }
      ]
    },
    {
      "cell_type": "markdown",
      "source": [
        "## Analyzing Survey Results\n",
        "\n",
        "These cells analyze the results, create groups, and drafts emails to send to them."
      ],
      "metadata": {
        "id": "OvWrC0ndQBIq"
      }
    },
    {
      "cell_type": "code",
      "source": [
        "# dividing into 2 DF based on synchronous/asynchronous\n",
        "synchronous = df.loc[df['synchronous']==True]\n",
        "asynchronous= df.loc[df['synchronous']==False]"
      ],
      "metadata": {
        "id": "bQPF6X6z9C5m"
      },
      "execution_count": null,
      "outputs": []
    },
    {
      "cell_type": "code",
      "source": [
        "#  dividing in 2 based on modality for synchronous sessions (in person vs. online)\n",
        "synchronous_in_person = synchronous.loc[synchronous['modality'] == 'in_person']\n",
        "synchronous_online = synchronous.loc[synchronous['modality'] == 'online']"
      ],
      "metadata": {
        "id": "eTisYic89EUX"
      },
      "execution_count": null,
      "outputs": []
    },
    {
      "cell_type": "code",
      "source": [
        "#  dividing synchronous online into 3 groups based on sessions/week\n",
        "synch_on_1seshes = synchronous_online.loc[synchronous_online['sesh_per_week'] == 1.0]\n",
        "synch_on_2seshes = synchronous_online.loc[synchronous_online['sesh_per_week'] == 2.0]\n",
        "synch_on_3seshes = synchronous_online.loc[synchronous_online['sesh_per_week'] == 3.0]\n",
        "\n",
        "on_dfs = [synch_on_1seshes, synch_on_2seshes, synch_on_3seshes]\n",
        "\n",
        "\n"
      ],
      "metadata": {
        "id": "KT5Y3Y5U-eiy"
      },
      "execution_count": null,
      "outputs": []
    },
    {
      "cell_type": "code",
      "source": [
        "# didiving synchronous in person into 5 groups based on sessions/week \n",
        "synch_in_1seshes = synchronous_in_person.loc[synchronous_in_person['sesh_per_week'] == '1']\n",
        "synch_in_2seshes = synchronous_in_person.loc[synchronous_in_person['sesh_per_week'] == '2']\n",
        "synch_in_3seshes = synchronous_in_person.loc[synchronous_in_person['sesh_per_week'] == '3']\n",
        "\n",
        "in_dfs = [synch_in_1seshes, synch_in_2seshes, synch_in_3seshes]\n"
      ],
      "metadata": {
        "id": "iuglZdgmQtDD"
      },
      "execution_count": null,
      "outputs": []
    },
    {
      "cell_type": "code",
      "source": [
        "#  creating a dictionary of the sorted dataframes\n",
        "all_responses = {\"in_person\": in_dfs, \"online\": on_dfs, \"asynchronous\": asynchronous}"
      ],
      "metadata": {
        "id": "au6cqvNdSSCR"
      },
      "execution_count": null,
      "outputs": []
    },
    {
      "cell_type": "code",
      "source": [
        "#  collecting unmatched people\n",
        "unmatched =[]\n",
        "for df in all_responses['in_person']:\n",
        "    if len(df) == 1:\n",
        "        unmatched.append(df['illinois_email'])\n",
        "\n",
        "for df in all_responses['online']:\n",
        "    if len(df) == 1:\n",
        "        unmatched.append(df['illinois_email'])\n",
        "\n"
      ],
      "metadata": {
        "id": "lapchz-hSSkP"
      },
      "execution_count": null,
      "outputs": []
    },
    {
      "cell_type": "code",
      "source": [
        "# now we need to generate emails to tell people they have been matched into a group\n",
        "all_groups = []\n",
        "#  in person: \n",
        "for group in all_responses['in_person']: \n",
        "    \n",
        "    try:\n",
        "        contacts = {'emails': group['illinois_email'].tolist(),\n",
        "               'discord_handles': group['discord_handle'].tolist(),\n",
        "               'modality': group['modality'].tolist()[0],\n",
        "                'sesh_per_week': group['sesh_per_week'].tolist()[0],\n",
        "               'sesh_length': round(group['sesh_length'].mean())}\n",
        "        all_groups.append(contacts)\n",
        "    except ValueError: #  assume this means that no one selected this option so we will skip it \n",
        "        pass\n",
        "    except IndexError: \n",
        "        pass\n",
        "for group in all_responses['online']: \n",
        "    \n",
        "    try:\n",
        "        contacts = {'emails': group['illinois_email'].tolist(),\n",
        "               'discord_handles': group['discord_handle'].tolist(),\n",
        "               'modality': group['modality'].tolist()[0],\n",
        "                'sesh_per_week': group['sesh_per_week'].tolist()[0],\n",
        "               'sesh_length': round(group['sesh_length'].mean())}\n",
        "        all_groups.append(contacts)\n",
        "    except ValueError: #  assume this means that no one selected this option so we will skip it \n",
        "        pass\n",
        "    except IndexError:\n",
        "        pass \n",
        "\n",
        "    "
      ],
      "metadata": {
        "id": "fwsrb_LpSgFR"
      },
      "execution_count": null,
      "outputs": []
    },
    {
      "cell_type": "markdown",
      "source": [
        "## Sending Emails"
      ],
      "metadata": {
        "id": "zF1uavSBSoVw"
      }
    },
    {
      "cell_type": "code",
      "source": [
        "# now we need to generate emails to tell people they have been matched into a group\n",
        "\n",
        "def make_contact_list(discord_handles):\n",
        "    discords = ''\n",
        "    i = 0\n",
        " \n",
        "    for this_handle in discord_handles: \n",
        "        discords += this_handle + ', '\n",
        "\n",
        "    return discords[:-2] \n",
        "\n",
        "def write_emails(group): \n",
        "    if len(group['emails']) == 1: \n",
        "        message = \"Hello! We regret to inform you that we have been unable to find a writing group that overlaps with your preferences. Please see the Writers Workshop's website for information about our regularly scheduled groups, and sign up for an appointment with us for writing support. Thanks!\"\n",
        "    elif len(group['emails']) > 1:\n",
        "        message = \"Hello! We are writing to let you know that you have been matched into a writing group that will meet\" + \" \" + re.sub('_', ' ',str(group['modality'])) + \" \" + str(group['sesh_per_week']) + \" \"+ \"time(s) per week for\" + \" \"+ str(group['sesh_length']) +\" \"+ \"hour(s). Please coordinate with the members of your group via discord to arrange a time that works best for you. Their discord handles are:\" +\" \"+make_contact_list(group['discord_handles']) +\". Happy writing!\"\n",
        "    else: pass\n",
        "    return message\n"
      ],
      "metadata": {
        "id": "7B_D_axdSgpv"
      },
      "execution_count": null,
      "outputs": []
    },
    {
      "cell_type": "code",
      "source": [
        "for group in all_groups:\n",
        "    group['email_to_send'] = write_emails(group)"
      ],
      "metadata": {
        "id": "-fa9YGv5SwBR"
      },
      "execution_count": null,
      "outputs": []
    },
    {
      "cell_type": "code",
      "source": [
        "all_groups"
      ],
      "metadata": {
        "colab": {
          "base_uri": "https://localhost:8080/"
        },
        "id": "NKt9weGHSwqJ",
        "outputId": "0e446cd6-fc3c-4d85-b154-485d8867154b"
      },
      "execution_count": null,
      "outputs": [
        {
          "output_type": "execute_result",
          "data": {
            "text/plain": [
              "[{'emails': ['ag58@illinois.edu'],\n",
              "  'discord_handles': ['randomdiscord9182'],\n",
              "  'modality': 'in_person',\n",
              "  'sesh_per_week': '1',\n",
              "  'sesh_length': 1,\n",
              "  'email_to_send': \"Hello! We regret to inform you that we have been unable to find a writing group that overlaps with your preferences. Please see the Writers Workshop's website for information about our regularly scheduled groups, and sign up for an appointment with us for writing support. Thanks!\"},\n",
              " {'emails': ['blafond2@illinois.edu', 'zef2@illinois.edu', 'Test Submission'],\n",
              "  'discord_handles': ['randomdiscord3000',\n",
              "   'randomdiscord3478',\n",
              "   'randomdiscord8573'],\n",
              "  'modality': 'in_person',\n",
              "  'sesh_per_week': '2',\n",
              "  'sesh_length': 2,\n",
              "  'email_to_send': 'Hello! We are writing to let you know that you have been matched into a writing group that will meet in person 2 time(s) per week for 2 hour(s). Please coordinate with the members of your group via discord to arrange a time that works best for you. Their discord handles are: randomdiscord3000, randomdiscord3478, randomdiscord8573. Happy writing!'}]"
            ]
          },
          "metadata": {},
          "execution_count": 36
        }
      ]
    },
    {
      "cell_type": "code",
      "source": [
        "makes_results_csv(all_groups, out_file_path)"
      ],
      "metadata": {
        "colab": {
          "base_uri": "https://localhost:8080/"
        },
        "id": "_eM7zithVK20",
        "outputId": "0e423dd1-60ee-4288-9a93-284023777bea"
      },
      "execution_count": null,
      "outputs": [
        {
          "output_type": "stream",
          "name": "stdout",
          "text": [
            "[{'emails': ['ag58@illinois.edu'], 'discord_handles': ['randomdiscord9182'], 'modality': 'in_person', 'sesh_per_week': '1', 'sesh_length': 1, 'email_to_send': \"Hello! We regret to inform you that we have been unable to find a writing group that overlaps with your preferences. Please see the Writers Workshop's website for information about our regularly scheduled groups, and sign up for an appointment with us for writing support. Thanks!\"}, {'emails': ['blafond2@illinois.edu', 'zef2@illinois.edu', 'Test Submission'], 'discord_handles': ['randomdiscord3000', 'randomdiscord3478', 'randomdiscord8573'], 'modality': 'in_person', 'sesh_per_week': '2', 'sesh_length': 2, 'email_to_send': 'Hello! We are writing to let you know that you have been matched into a writing group that will meet in person 2 time(s) per week for 2 hour(s). Please coordinate with the members of your group via discord to arrange a time that works best for you. Their discord handles are: randomdiscord3000, randomdiscord3478, randomdiscord8573. Happy writing!'}]\n"
          ]
        }
      ]
    },
    {
      "cell_type": "code",
      "source": [
        "safety_concerns_report(results)\n"
      ],
      "metadata": {
        "colab": {
          "base_uri": "https://localhost:8080/"
        },
        "id": "q5jeGrDlSt-3",
        "outputId": "deea5b14-43e5-4f2f-e81a-d084f5e2e8b1"
      },
      "execution_count": null,
      "outputs": [
        {
          "output_type": "stream",
          "name": "stdout",
          "text": [
            "Review these safety concerns:\n",
            "morris25@illinois.edu:\n",
            "Ludwig von Beethoven\n",
            " \n",
            "morris25@illinois.edu:\n",
            "Adolf Hitler\n",
            " \n",
            "blafond2@illinois.edu:\n",
            "NA\n",
            " \n",
            "morris25@illinois.edu:\n",
            "Donald Trump\n",
            " \n",
            "sarahu2@illinois.edu:\n",
            "NA\n",
            " \n",
            "yournamehere@illinois.edu:\n",
            "NA\n",
            " \n"
          ]
        }
      ]
    },
    {
      "cell_type": "code",
      "source": [],
      "metadata": {
        "id": "ICMp29X0hVRn"
      },
      "execution_count": null,
      "outputs": []
    }
  ]
}